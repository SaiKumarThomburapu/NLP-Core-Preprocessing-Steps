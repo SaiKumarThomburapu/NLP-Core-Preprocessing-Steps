{
 "cells": [
  {
   "cell_type": "code",
   "execution_count": 1,
   "id": "25b9ecdc-f56e-46b8-8eae-f689afe0305e",
   "metadata": {},
   "outputs": [
    {
     "name": "stdout",
     "output_type": "stream",
     "text": [
      "Requirement already satisfied: nltk in c:\\users\\mastan\\anaconda3\\lib\\site-packages (3.9.1)\n",
      "Requirement already satisfied: click in c:\\users\\mastan\\anaconda3\\lib\\site-packages (from nltk) (8.1.7)\n",
      "Requirement already satisfied: joblib in c:\\users\\mastan\\anaconda3\\lib\\site-packages (from nltk) (1.4.2)\n",
      "Requirement already satisfied: regex>=2021.8.3 in c:\\users\\mastan\\anaconda3\\lib\\site-packages (from nltk) (2024.9.11)\n",
      "Requirement already satisfied: tqdm in c:\\users\\mastan\\anaconda3\\lib\\site-packages (from nltk) (4.66.5)\n",
      "Requirement already satisfied: colorama in c:\\users\\mastan\\appdata\\roaming\\python\\python312\\site-packages (from click->nltk) (0.4.6)\n"
     ]
    }
   ],
   "source": [
    "!pip install nltk"
   ]
  },
  {
   "cell_type": "code",
   "execution_count": 3,
   "id": "125020ee-03f6-4128-81df-dd74e73945ac",
   "metadata": {},
   "outputs": [],
   "source": [
    "corpus=\"\"\"A neural network is a system of connected layers (neurons) that learns patterns from data — inspired by how our brain works\n",
    "Now depending on the type of problem (images, text, time-series, etc.), we use different types of neural networks.\"\"\"\n",
    "\n"
   ]
  },
  {
   "cell_type": "code",
   "execution_count": 5,
   "id": "977b9dd9-2c75-4e54-8951-47d678d9dafb",
   "metadata": {},
   "outputs": [
    {
     "data": {
      "text/plain": [
       "'A neural network is a system of connected layers (neurons) that learns patterns from data — inspired by how our brain works\\nNow depending on the type of problem (images, text, time-series, etc.), we use different types of neural networks.'"
      ]
     },
     "execution_count": 5,
     "metadata": {},
     "output_type": "execute_result"
    }
   ],
   "source": [
    "corpus"
   ]
  },
  {
   "cell_type": "code",
   "execution_count": 25,
   "id": "98996b44-ee25-4f4c-9f9b-1e9228bdbf24",
   "metadata": {},
   "outputs": [
    {
     "name": "stderr",
     "output_type": "stream",
     "text": [
      "[nltk_data] Downloading package punkt_tab to\n",
      "[nltk_data]     C:\\Users\\Mastan\\AppData\\Roaming\\nltk_data...\n",
      "[nltk_data]   Unzipping tokenizers\\punkt_tab.zip.\n"
     ]
    },
    {
     "data": {
      "text/plain": [
       "True"
      ]
     },
     "execution_count": 25,
     "metadata": {},
     "output_type": "execute_result"
    }
   ],
   "source": [
    "import nltk\n",
    "nltk.download('punkt_tab')"
   ]
  },
  {
   "cell_type": "code",
   "execution_count": 33,
   "id": "8bca91c7-5335-4f97-9d09-80a5fbfe10ad",
   "metadata": {
    "scrolled": true
   },
   "outputs": [],
   "source": [
    "from nltk import sent_tokenize\n",
    "documents=sent_tokenize(corpus)"
   ]
  },
  {
   "cell_type": "code",
   "execution_count": 35,
   "id": "e46481d5-9a26-468c-8d9e-82308cdc733d",
   "metadata": {},
   "outputs": [
    {
     "data": {
      "text/plain": [
       "['A neural network is a system of connected layers (neurons) that learns patterns from data — inspired by how our brain works\\nNow depending on the type of problem (images, text, time-series, etc.',\n",
       " '), we use different types of neural networks.']"
      ]
     },
     "execution_count": 35,
     "metadata": {},
     "output_type": "execute_result"
    }
   ],
   "source": [
    "documents"
   ]
  },
  {
   "cell_type": "code",
   "execution_count": 37,
   "id": "9f51bf8f-8778-4c43-9fbf-2ac3ea27e161",
   "metadata": {},
   "outputs": [],
   "source": [
    "from nltk import word_tokenize"
   ]
  },
  {
   "cell_type": "code",
   "execution_count": 41,
   "id": "09ea8f2e-241e-43cf-82b9-1f4e00e8b991",
   "metadata": {},
   "outputs": [],
   "source": [
    "vocabulary=word_tokenize(corpus)"
   ]
  },
  {
   "cell_type": "code",
   "execution_count": 43,
   "id": "0e39d366-0c50-423d-be3e-e7238f2fa450",
   "metadata": {},
   "outputs": [
    {
     "data": {
      "text/plain": [
       "['A',\n",
       " 'neural',\n",
       " 'network',\n",
       " 'is',\n",
       " 'a',\n",
       " 'system',\n",
       " 'of',\n",
       " 'connected',\n",
       " 'layers',\n",
       " '(',\n",
       " 'neurons',\n",
       " ')',\n",
       " 'that',\n",
       " 'learns',\n",
       " 'patterns',\n",
       " 'from',\n",
       " 'data',\n",
       " '—',\n",
       " 'inspired',\n",
       " 'by',\n",
       " 'how',\n",
       " 'our',\n",
       " 'brain',\n",
       " 'works',\n",
       " 'Now',\n",
       " 'depending',\n",
       " 'on',\n",
       " 'the',\n",
       " 'type',\n",
       " 'of',\n",
       " 'problem',\n",
       " '(',\n",
       " 'images',\n",
       " ',',\n",
       " 'text',\n",
       " ',',\n",
       " 'time-series',\n",
       " ',',\n",
       " 'etc',\n",
       " '.',\n",
       " ')',\n",
       " ',',\n",
       " 'we',\n",
       " 'use',\n",
       " 'different',\n",
       " 'types',\n",
       " 'of',\n",
       " 'neural',\n",
       " 'networks',\n",
       " '.']"
      ]
     },
     "execution_count": 43,
     "metadata": {},
     "output_type": "execute_result"
    }
   ],
   "source": [
    "vocabulary"
   ]
  },
  {
   "cell_type": "code",
   "execution_count": 45,
   "id": "625a2bdd-ade5-4643-a05e-d5e3615f1d71",
   "metadata": {},
   "outputs": [
    {
     "name": "stdout",
     "output_type": "stream",
     "text": [
      "['A', 'neural', 'network', 'is', 'a', 'system', 'of', 'connected', 'layers', '(', 'neurons', ')', 'that', 'learns', 'patterns', 'from', 'data', '—', 'inspired', 'by', 'how', 'our', 'brain', 'works', 'Now', 'depending', 'on', 'the', 'type', 'of', 'problem', '(', 'images', ',', 'text', ',', 'time-series', ',', 'etc', '.']\n",
      "[')', ',', 'we', 'use', 'different', 'types', 'of', 'neural', 'networks', '.']\n"
     ]
    }
   ],
   "source": [
    "for sentence in documents:\n",
    "    print(word_tokenize(sentence))"
   ]
  },
  {
   "cell_type": "code",
   "execution_count": 49,
   "id": "d6b44017-2a15-429a-8597-b4ed8b39c94e",
   "metadata": {},
   "outputs": [],
   "source": [
    "from nltk import wordpunct_tokenize"
   ]
  },
  {
   "cell_type": "code",
   "execution_count": 51,
   "id": "95e0bbe7-809d-4764-9952-07ee9e10a8ba",
   "metadata": {},
   "outputs": [
    {
     "data": {
      "text/plain": [
       "['A',\n",
       " 'neural',\n",
       " 'network',\n",
       " 'is',\n",
       " 'a',\n",
       " 'system',\n",
       " 'of',\n",
       " 'connected',\n",
       " 'layers',\n",
       " '(',\n",
       " 'neurons',\n",
       " ')',\n",
       " 'that',\n",
       " 'learns',\n",
       " 'patterns',\n",
       " 'from',\n",
       " 'data',\n",
       " '—',\n",
       " 'inspired',\n",
       " 'by',\n",
       " 'how',\n",
       " 'our',\n",
       " 'brain',\n",
       " 'works',\n",
       " 'Now',\n",
       " 'depending',\n",
       " 'on',\n",
       " 'the',\n",
       " 'type',\n",
       " 'of',\n",
       " 'problem',\n",
       " '(',\n",
       " 'images',\n",
       " ',',\n",
       " 'text',\n",
       " ',',\n",
       " 'time',\n",
       " '-',\n",
       " 'series',\n",
       " ',',\n",
       " 'etc',\n",
       " '.),',\n",
       " 'we',\n",
       " 'use',\n",
       " 'different',\n",
       " 'types',\n",
       " 'of',\n",
       " 'neural',\n",
       " 'networks',\n",
       " '.']"
      ]
     },
     "execution_count": 51,
     "metadata": {},
     "output_type": "execute_result"
    }
   ],
   "source": [
    "wordpunct_tokenize(corpus)"
   ]
  },
  {
   "cell_type": "code",
   "execution_count": null,
   "id": "0d75ef94-1dd2-4b4b-b54a-a6753239f4aa",
   "metadata": {},
   "outputs": [],
   "source": []
  },
  {
   "cell_type": "code",
   "execution_count": null,
   "id": "81a26061-0da6-4d7b-88f4-21bafdfcd4ee",
   "metadata": {},
   "outputs": [],
   "source": []
  },
  {
   "cell_type": "code",
   "execution_count": null,
   "id": "ec40e5c6-1c4d-4f42-b72b-3e4e65726907",
   "metadata": {},
   "outputs": [],
   "source": []
  },
  {
   "cell_type": "code",
   "execution_count": null,
   "id": "b8fa5a12-67ac-4381-a038-de129d2be23b",
   "metadata": {},
   "outputs": [],
   "source": []
  },
  {
   "cell_type": "code",
   "execution_count": null,
   "id": "a31e3f72-6f18-461b-8878-1e5ae204e1eb",
   "metadata": {},
   "outputs": [],
   "source": []
  },
  {
   "cell_type": "code",
   "execution_count": null,
   "id": "0053f3f0-a035-4090-9f6e-84cfd283784b",
   "metadata": {},
   "outputs": [],
   "source": []
  }
 ],
 "metadata": {
  "kernelspec": {
   "display_name": "Python 3 (ipykernel)",
   "language": "python",
   "name": "python3"
  },
  "language_info": {
   "codemirror_mode": {
    "name": "ipython",
    "version": 3
   },
   "file_extension": ".py",
   "mimetype": "text/x-python",
   "name": "python",
   "nbconvert_exporter": "python",
   "pygments_lexer": "ipython3",
   "version": "3.12.7"
  }
 },
 "nbformat": 4,
 "nbformat_minor": 5
}
