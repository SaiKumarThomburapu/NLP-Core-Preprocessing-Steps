{
 "cells": [
  {
   "cell_type": "markdown",
   "id": "75a2f1ab-022a-4ffe-851a-63cf67d225b4",
   "metadata": {},
   "source": [
    "### Stemming is nothing but reducing the words to its word stem by affixes to suffixes and prefixes or to the roots of the words known as lemma.Stemming is important in natural language understanding and NLP"
   ]
  },
  {
   "cell_type": "code",
   "execution_count": 6,
   "id": "4537da15-a016-4ef1-b710-b484e8c8230b",
   "metadata": {},
   "outputs": [],
   "source": [
    "## For any classification problem\n",
    "## If the reviews are in positive or negative nature\n",
    "## Reviews--> Words with siffix and prefix"
   ]
  },
  {
   "cell_type": "markdown",
   "id": "a878b068-f273-422a-9cc2-575a69f493b5",
   "metadata": {},
   "source": [
    "## Porter Stemming"
   ]
  },
  {
   "cell_type": "code",
   "execution_count": 8,
   "id": "f8050935-af9a-4694-95d7-53e5ec5a9690",
   "metadata": {},
   "outputs": [],
   "source": [
    "words=[\"Eating\",\"Eaten\",\"Eats\",\"writing\",\"sitting\"]"
   ]
  },
  {
   "cell_type": "code",
   "execution_count": 12,
   "id": "2c3262dc-22a5-49ac-ae52-1a6ae65ea226",
   "metadata": {},
   "outputs": [],
   "source": [
    "from nltk import PorterStemmer"
   ]
  },
  {
   "cell_type": "code",
   "execution_count": 14,
   "id": "1165631b-96c1-4a1b-a156-02635d07c61a",
   "metadata": {},
   "outputs": [],
   "source": [
    "stemming=PorterStemmer()"
   ]
  },
  {
   "cell_type": "code",
   "execution_count": 20,
   "id": "9052c3b0-b579-4954-b71d-91a6e6a26d6c",
   "metadata": {},
   "outputs": [
    {
     "name": "stdout",
     "output_type": "stream",
     "text": [
      "Eating-->eat\n",
      "Eaten-->eaten\n",
      "Eats-->eat\n",
      "writing-->write\n",
      "sitting-->sit\n"
     ]
    }
   ],
   "source": [
    "for word in words:\n",
    "    print(word+\"-->\"+stemming.stem(word))"
   ]
  },
  {
   "cell_type": "code",
   "execution_count": 28,
   "id": "ca50cb42-56d5-4b53-9551-7e5497786b3f",
   "metadata": {},
   "outputs": [
    {
     "data": {
      "text/plain": [
       "'basic'"
      ]
     },
     "execution_count": 28,
     "metadata": {},
     "output_type": "execute_result"
    }
   ],
   "source": [
    "stemming.stem(\"Basically\")"
   ]
  },
  {
   "cell_type": "code",
   "execution_count": 30,
   "id": "bab9bfd9-5f4e-4ee8-a67b-43bfae00323f",
   "metadata": {},
   "outputs": [
    {
     "data": {
      "text/plain": [
       "'gener'"
      ]
     },
     "execution_count": 30,
     "metadata": {},
     "output_type": "execute_result"
    }
   ],
   "source": [
    "stemming.stem(\"general\")"
   ]
  },
  {
   "cell_type": "code",
   "execution_count": 32,
   "id": "6dd64604-fd83-46c4-a2d2-b9f4fd31150f",
   "metadata": {},
   "outputs": [
    {
     "data": {
      "text/plain": [
       "'actual'"
      ]
     },
     "execution_count": 32,
     "metadata": {},
     "output_type": "execute_result"
    }
   ],
   "source": [
    "stemming.stem(\"Actually\")"
   ]
  },
  {
   "cell_type": "markdown",
   "id": "fad391c2-1e5e-449c-a62b-07f4294cb7e4",
   "metadata": {},
   "source": [
    "## RegexpStemming"
   ]
  },
  {
   "cell_type": "code",
   "execution_count": 24,
   "id": "c589fefc-939e-4fa4-aab9-f06396eacaeb",
   "metadata": {},
   "outputs": [],
   "source": [
    "from nltk import RegexpStemmer"
   ]
  },
  {
   "cell_type": "code",
   "execution_count": 34,
   "id": "c33e57c0-b0b2-4b99-81c6-baac7ac46efc",
   "metadata": {},
   "outputs": [],
   "source": [
    "stemming1=RegexpStemmer(\"ing$|es$|ly$\",min=4)"
   ]
  },
  {
   "cell_type": "code",
   "execution_count": 36,
   "id": "0090a321-0ad1-4c73-ae97-5bd63eb589a2",
   "metadata": {},
   "outputs": [
    {
     "name": "stdout",
     "output_type": "stream",
     "text": [
      "Eating-->Eat\n",
      "Eaten-->Eaten\n",
      "Eats-->Eats\n",
      "writing-->writ\n",
      "sitting-->sitt\n"
     ]
    }
   ],
   "source": [
    "for word in words:\n",
    "    print(word+\"-->\"+stemming1.stem(word))"
   ]
  },
  {
   "cell_type": "code",
   "execution_count": 38,
   "id": "3f466d4a-bb92-4b1d-a491-83cf39159fd9",
   "metadata": {},
   "outputs": [],
   "source": [
    "## Writing we got it wrong -- So Regexstemming is also giving us wrong answers"
   ]
  },
  {
   "cell_type": "markdown",
   "id": "d23ae611-ca64-4b7b-bb29-c0746fce8098",
   "metadata": {},
   "source": [
    "## snowballStemmer"
   ]
  },
  {
   "cell_type": "code",
   "execution_count": 44,
   "id": "7b550930-42f9-4bb8-a848-bc5ffdb4f878",
   "metadata": {},
   "outputs": [],
   "source": [
    "from nltk import SnowballStemmer"
   ]
  },
  {
   "cell_type": "code",
   "execution_count": 48,
   "id": "6e1f6289-464c-4eba-9e62-6f50cfd39fce",
   "metadata": {},
   "outputs": [],
   "source": [
    "stemming2=SnowballStemmer('english')"
   ]
  },
  {
   "cell_type": "code",
   "execution_count": 50,
   "id": "60a55020-1e39-478a-9dbc-0141e424773b",
   "metadata": {},
   "outputs": [
    {
     "name": "stdout",
     "output_type": "stream",
     "text": [
      "Eating-->eat\n",
      "Eaten-->eaten\n",
      "Eats-->eat\n",
      "writing-->write\n",
      "sitting-->sit\n"
     ]
    }
   ],
   "source": [
    "for word in words:\n",
    "    print(word+\"-->\"+stemming2.stem(word))"
   ]
  },
  {
   "cell_type": "code",
   "execution_count": 52,
   "id": "5e2ccffc-55d6-4f7a-93e1-7e128dd6763a",
   "metadata": {},
   "outputs": [
    {
     "data": {
      "text/plain": [
       "'congratul'"
      ]
     },
     "execution_count": 52,
     "metadata": {},
     "output_type": "execute_result"
    }
   ],
   "source": [
    "stemming2.stem(\"Congratulations\")"
   ]
  },
  {
   "cell_type": "code",
   "execution_count": 54,
   "id": "fbf19690-a024-45da-aa64-55aa6fac0190",
   "metadata": {},
   "outputs": [],
   "source": [
    "## Even This is giving wrong answers so here comes the lemmatization"
   ]
  },
  {
   "cell_type": "code",
   "execution_count": null,
   "id": "ec3ea128-c86f-4b94-b858-d29eb94f945b",
   "metadata": {},
   "outputs": [],
   "source": []
  },
  {
   "cell_type": "code",
   "execution_count": null,
   "id": "1d37ba71-8c31-4f4b-9921-60b942409fcb",
   "metadata": {},
   "outputs": [],
   "source": []
  },
  {
   "cell_type": "code",
   "execution_count": null,
   "id": "0103a5e5-ee4d-40e1-a5ce-6dc12aa24e86",
   "metadata": {},
   "outputs": [],
   "source": []
  },
  {
   "cell_type": "code",
   "execution_count": null,
   "id": "54b8425b-b4ba-4c95-af3d-7848eb4bc544",
   "metadata": {},
   "outputs": [],
   "source": []
  },
  {
   "cell_type": "code",
   "execution_count": null,
   "id": "06b87ab8-5f07-4a86-92c4-9587cb5dd35a",
   "metadata": {},
   "outputs": [],
   "source": []
  },
  {
   "cell_type": "code",
   "execution_count": null,
   "id": "5273f1fa-8e3e-4a75-b4f5-0eba8d7bf716",
   "metadata": {},
   "outputs": [],
   "source": []
  },
  {
   "cell_type": "code",
   "execution_count": null,
   "id": "58832ffb-902e-417c-addf-cd5813659519",
   "metadata": {},
   "outputs": [],
   "source": []
  },
  {
   "cell_type": "code",
   "execution_count": null,
   "id": "5b2b37ef-0348-4790-b9a5-06882196bb77",
   "metadata": {},
   "outputs": [],
   "source": []
  }
 ],
 "metadata": {
  "kernelspec": {
   "display_name": "Python 3 (ipykernel)",
   "language": "python",
   "name": "python3"
  },
  "language_info": {
   "codemirror_mode": {
    "name": "ipython",
    "version": 3
   },
   "file_extension": ".py",
   "mimetype": "text/x-python",
   "name": "python",
   "nbconvert_exporter": "python",
   "pygments_lexer": "ipython3",
   "version": "3.12.7"
  }
 },
 "nbformat": 4,
 "nbformat_minor": 5
}
