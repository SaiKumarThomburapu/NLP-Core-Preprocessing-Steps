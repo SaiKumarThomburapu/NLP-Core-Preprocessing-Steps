{
 "cells": [
  {
   "cell_type": "markdown",
   "id": "601d4107-4685-4949-ad44-9d3f2f121016",
   "metadata": {},
   "source": [
    "### Wordnet lemmatizer is same like stemming but this doesn't forget the meaning of the word and it gives the meanning from the roots of that word "
   ]
  },
  {
   "cell_type": "code",
   "execution_count": 16,
   "id": "67e622ea-2b16-49fb-9c16-e7062f535040",
   "metadata": {},
   "outputs": [
    {
     "name": "stderr",
     "output_type": "stream",
     "text": [
      "[nltk_data] Downloading package wordnet to\n",
      "[nltk_data]     C:\\Users\\Mastan\\AppData\\Roaming\\nltk_data...\n"
     ]
    },
    {
     "data": {
      "text/plain": [
       "True"
      ]
     },
     "execution_count": 16,
     "metadata": {},
     "output_type": "execute_result"
    }
   ],
   "source": [
    "import nltk\n",
    "nltk.download('wordnet')"
   ]
  },
  {
   "cell_type": "code",
   "execution_count": 4,
   "id": "bce65e78-221e-4860-970a-259f43f5f973",
   "metadata": {},
   "outputs": [],
   "source": [
    "from nltk.stem import WordNetLemmatizer"
   ]
  },
  {
   "cell_type": "code",
   "execution_count": 6,
   "id": "148345de-b84b-4a6c-9fc9-3914d8f9187b",
   "metadata": {},
   "outputs": [],
   "source": [
    "Lemmatizer=WordNetLemmatizer()"
   ]
  },
  {
   "cell_type": "code",
   "execution_count": 40,
   "id": "2cf0b8c8-a1da-4dfc-ae5f-30ecdd51c28a",
   "metadata": {},
   "outputs": [
    {
     "data": {
      "text/plain": [
       "'go'"
      ]
     },
     "execution_count": 40,
     "metadata": {},
     "output_type": "execute_result"
    }
   ],
   "source": [
    "Lemmatizer.lemmatize(\"going\",pos='v')"
   ]
  },
  {
   "cell_type": "code",
   "execution_count": 20,
   "id": "408f4355-eba0-4e9d-8c53-68ef93b92fbc",
   "metadata": {},
   "outputs": [],
   "source": [
    "words=[\"Eating\",\"Eaten\",\"Eats\",\"writing\",\"sitting\"]"
   ]
  },
  {
   "cell_type": "code",
   "execution_count": 42,
   "id": "7164b0b8-77e8-4a13-a15f-9cea42890a4e",
   "metadata": {
    "scrolled": true
   },
   "outputs": [
    {
     "name": "stdout",
     "output_type": "stream",
     "text": [
      "Eating-->Eating\n",
      "Eaten-->Eaten\n",
      "Eats-->Eats\n",
      "writing-->write\n",
      "sitting-->sit\n"
     ]
    }
   ],
   "source": [
    "for word in words:\n",
    "    print(word+\"-->\"+Lemmatizer.lemmatize(word,pos='v'))"
   ]
  },
  {
   "cell_type": "code",
   "execution_count": null,
   "id": "b0c001e6-4927-4c83-873c-fcd9bc885b1a",
   "metadata": {},
   "outputs": [],
   "source": []
  },
  {
   "cell_type": "code",
   "execution_count": null,
   "id": "ae6ea461-7f34-479f-b3c0-6c7abebd1f7f",
   "metadata": {},
   "outputs": [],
   "source": []
  },
  {
   "cell_type": "code",
   "execution_count": null,
   "id": "37f7531f-c1c3-4f6b-a460-dc105c8fb9f7",
   "metadata": {},
   "outputs": [],
   "source": []
  },
  {
   "cell_type": "code",
   "execution_count": null,
   "id": "f8d425d6-4697-4dd1-bc5b-e2384b4704dd",
   "metadata": {},
   "outputs": [],
   "source": []
  },
  {
   "cell_type": "code",
   "execution_count": null,
   "id": "f189a944-62fe-4ff4-a43c-3c33fc4fd884",
   "metadata": {},
   "outputs": [],
   "source": []
  },
  {
   "cell_type": "code",
   "execution_count": null,
   "id": "bae1d3fd-5d40-4958-b8dc-669ce12e6f82",
   "metadata": {},
   "outputs": [],
   "source": []
  }
 ],
 "metadata": {
  "kernelspec": {
   "display_name": "Python 3 (ipykernel)",
   "language": "python",
   "name": "python3"
  },
  "language_info": {
   "codemirror_mode": {
    "name": "ipython",
    "version": 3
   },
   "file_extension": ".py",
   "mimetype": "text/x-python",
   "name": "python",
   "nbconvert_exporter": "python",
   "pygments_lexer": "ipython3",
   "version": "3.12.7"
  }
 },
 "nbformat": 4,
 "nbformat_minor": 5
}
