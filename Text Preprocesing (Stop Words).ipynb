{
 "cells": [
  {
   "cell_type": "code",
   "execution_count": 1,
   "id": "956096b3-50e0-49c4-92e1-f7ae88f0c4e7",
   "metadata": {},
   "outputs": [],
   "source": [
    "paragraph=\"\"\"The situation in Afghanistan has directly impacted the security of all of us. India's concerns and expectations regarding Afghanistan are similar to those of most of the SCO countries. We must come together to strive for the well-being of the people of Afghanistan. Humanitarian assistance to Afghan citizens; the formation of an inclusive government; the fight against terrorism and drug trafficking; and ensuring the rights of women, children, and minorities are our shared priorities. Between the people of India and Afghanistan, there have been centuries-old friendly relations. In the past two decades, we have contributed to the economic and social development of Afghanistan. Even after the events of 2021, we continued to provide humanitarian assistance. It is important that Afghanistan's territory is not used to spread instability in neighboring countries or to encourage extremist ideologies.\"\"\""
   ]
  },
  {
   "cell_type": "code",
   "execution_count": 3,
   "id": "c3adcc6e-de86-4930-9f92-c53bb2d5c67b",
   "metadata": {},
   "outputs": [],
   "source": [
    "from nltk.stem import PorterStemmer"
   ]
  },
  {
   "cell_type": "code",
   "execution_count": 7,
   "id": "d2fc6eec-6d28-4420-90cb-7d1ccf3ce106",
   "metadata": {},
   "outputs": [],
   "source": [
    "from nltk.corpus import stopwords "
   ]
  },
  {
   "cell_type": "code",
   "execution_count": 11,
   "id": "2e791863-d265-42d6-b9c1-91b437c0b1fe",
   "metadata": {},
   "outputs": [
    {
     "name": "stderr",
     "output_type": "stream",
     "text": [
      "[nltk_data] Downloading package stopwords to\n",
      "[nltk_data]     C:\\Users\\Mastan\\AppData\\Roaming\\nltk_data...\n",
      "[nltk_data]   Package stopwords is already up-to-date!\n"
     ]
    },
    {
     "data": {
      "text/plain": [
       "True"
      ]
     },
     "execution_count": 11,
     "metadata": {},
     "output_type": "execute_result"
    }
   ],
   "source": [
    "import nltk\n",
    "nltk.download('stopwords')"
   ]
  },
  {
   "cell_type": "code",
   "execution_count": 15,
   "id": "a96b2ac3-25d6-4a02-823e-9d8e1a097f06",
   "metadata": {},
   "outputs": [
    {
     "data": {
      "text/plain": [
       "['a',\n",
       " 'about',\n",
       " 'above',\n",
       " 'after',\n",
       " 'again',\n",
       " 'against',\n",
       " 'ain',\n",
       " 'all',\n",
       " 'am',\n",
       " 'an',\n",
       " 'and',\n",
       " 'any',\n",
       " 'are',\n",
       " 'aren',\n",
       " \"aren't\",\n",
       " 'as',\n",
       " 'at',\n",
       " 'be',\n",
       " 'because',\n",
       " 'been',\n",
       " 'before',\n",
       " 'being',\n",
       " 'below',\n",
       " 'between',\n",
       " 'both',\n",
       " 'but',\n",
       " 'by',\n",
       " 'can',\n",
       " 'couldn',\n",
       " \"couldn't\",\n",
       " 'd',\n",
       " 'did',\n",
       " 'didn',\n",
       " \"didn't\",\n",
       " 'do',\n",
       " 'does',\n",
       " 'doesn',\n",
       " \"doesn't\",\n",
       " 'doing',\n",
       " 'don',\n",
       " \"don't\",\n",
       " 'down',\n",
       " 'during',\n",
       " 'each',\n",
       " 'few',\n",
       " 'for',\n",
       " 'from',\n",
       " 'further',\n",
       " 'had',\n",
       " 'hadn',\n",
       " \"hadn't\",\n",
       " 'has',\n",
       " 'hasn',\n",
       " \"hasn't\",\n",
       " 'have',\n",
       " 'haven',\n",
       " \"haven't\",\n",
       " 'having',\n",
       " 'he',\n",
       " \"he'd\",\n",
       " \"he'll\",\n",
       " 'her',\n",
       " 'here',\n",
       " 'hers',\n",
       " 'herself',\n",
       " \"he's\",\n",
       " 'him',\n",
       " 'himself',\n",
       " 'his',\n",
       " 'how',\n",
       " 'i',\n",
       " \"i'd\",\n",
       " 'if',\n",
       " \"i'll\",\n",
       " \"i'm\",\n",
       " 'in',\n",
       " 'into',\n",
       " 'is',\n",
       " 'isn',\n",
       " \"isn't\",\n",
       " 'it',\n",
       " \"it'd\",\n",
       " \"it'll\",\n",
       " \"it's\",\n",
       " 'its',\n",
       " 'itself',\n",
       " \"i've\",\n",
       " 'just',\n",
       " 'll',\n",
       " 'm',\n",
       " 'ma',\n",
       " 'me',\n",
       " 'mightn',\n",
       " \"mightn't\",\n",
       " 'more',\n",
       " 'most',\n",
       " 'mustn',\n",
       " \"mustn't\",\n",
       " 'my',\n",
       " 'myself',\n",
       " 'needn',\n",
       " \"needn't\",\n",
       " 'no',\n",
       " 'nor',\n",
       " 'not',\n",
       " 'now',\n",
       " 'o',\n",
       " 'of',\n",
       " 'off',\n",
       " 'on',\n",
       " 'once',\n",
       " 'only',\n",
       " 'or',\n",
       " 'other',\n",
       " 'our',\n",
       " 'ours',\n",
       " 'ourselves',\n",
       " 'out',\n",
       " 'over',\n",
       " 'own',\n",
       " 're',\n",
       " 's',\n",
       " 'same',\n",
       " 'shan',\n",
       " \"shan't\",\n",
       " 'she',\n",
       " \"she'd\",\n",
       " \"she'll\",\n",
       " \"she's\",\n",
       " 'should',\n",
       " 'shouldn',\n",
       " \"shouldn't\",\n",
       " \"should've\",\n",
       " 'so',\n",
       " 'some',\n",
       " 'such',\n",
       " 't',\n",
       " 'than',\n",
       " 'that',\n",
       " \"that'll\",\n",
       " 'the',\n",
       " 'their',\n",
       " 'theirs',\n",
       " 'them',\n",
       " 'themselves',\n",
       " 'then',\n",
       " 'there',\n",
       " 'these',\n",
       " 'they',\n",
       " \"they'd\",\n",
       " \"they'll\",\n",
       " \"they're\",\n",
       " \"they've\",\n",
       " 'this',\n",
       " 'those',\n",
       " 'through',\n",
       " 'to',\n",
       " 'too',\n",
       " 'under',\n",
       " 'until',\n",
       " 'up',\n",
       " 've',\n",
       " 'very',\n",
       " 'was',\n",
       " 'wasn',\n",
       " \"wasn't\",\n",
       " 'we',\n",
       " \"we'd\",\n",
       " \"we'll\",\n",
       " \"we're\",\n",
       " 'were',\n",
       " 'weren',\n",
       " \"weren't\",\n",
       " \"we've\",\n",
       " 'what',\n",
       " 'when',\n",
       " 'where',\n",
       " 'which',\n",
       " 'while',\n",
       " 'who',\n",
       " 'whom',\n",
       " 'why',\n",
       " 'will',\n",
       " 'with',\n",
       " 'won',\n",
       " \"won't\",\n",
       " 'wouldn',\n",
       " \"wouldn't\",\n",
       " 'y',\n",
       " 'you',\n",
       " \"you'd\",\n",
       " \"you'll\",\n",
       " 'your',\n",
       " \"you're\",\n",
       " 'yours',\n",
       " 'yourself',\n",
       " 'yourselves',\n",
       " \"you've\"]"
      ]
     },
     "execution_count": 15,
     "metadata": {},
     "output_type": "execute_result"
    }
   ],
   "source": [
    "stopwords.words('english')"
   ]
  },
  {
   "cell_type": "code",
   "execution_count": 17,
   "id": "569837f1-797a-43f3-95bc-640ec9f704f8",
   "metadata": {},
   "outputs": [],
   "source": [
    "from nltk.stem import PorterStemmer"
   ]
  },
  {
   "cell_type": "code",
   "execution_count": 19,
   "id": "4698fb50-9613-49b7-a753-50f1458062bc",
   "metadata": {},
   "outputs": [],
   "source": [
    "stemmer=PorterStemmer()"
   ]
  },
  {
   "cell_type": "code",
   "execution_count": 51,
   "id": "a5c819ee-93fa-4771-a463-94f9f084bb89",
   "metadata": {},
   "outputs": [],
   "source": [
    "sentences=nltk.sent_tokenize(paragraph)"
   ]
  },
  {
   "cell_type": "code",
   "execution_count": 37,
   "id": "db1487eb-2d64-4254-98ea-b92e128422e3",
   "metadata": {},
   "outputs": [
    {
     "data": {
      "text/plain": [
       "['The situation in Afghanistan has directly impacted the security of all of us.',\n",
       " \"India's concerns and expectations regarding Afghanistan are similar to those of most of the SCO countries.\",\n",
       " 'We must come together to strive for the well-being of the people of Afghanistan.',\n",
       " 'Humanitarian assistance to Afghan citizens; the formation of an inclusive government; the fight against terrorism and drug trafficking; and ensuring the rights of women, children, and minorities are our shared priorities.',\n",
       " 'Between the people of India and Afghanistan, there have been centuries-old friendly relations.',\n",
       " 'In the past two decades, we have contributed to the economic and social development of Afghanistan.',\n",
       " 'Even after the events of 2021, we continued to provide humanitarian assistance.',\n",
       " \"It is important that Afghanistan's territory is not used to spread instability in neighboring countries or to encourage extremist ideologies.\"]"
      ]
     },
     "execution_count": 37,
     "metadata": {},
     "output_type": "execute_result"
    }
   ],
   "source": [
    "sentences"
   ]
  },
  {
   "cell_type": "code",
   "execution_count": 25,
   "id": "bcabc294-5a43-4940-8e42-8ab1bcc68975",
   "metadata": {},
   "outputs": [
    {
     "data": {
      "text/plain": [
       "list"
      ]
     },
     "execution_count": 25,
     "metadata": {},
     "output_type": "execute_result"
    }
   ],
   "source": [
    "type(sentences)"
   ]
  },
  {
   "cell_type": "code",
   "execution_count": 27,
   "id": "b48e8a5a-f986-421c-baa3-7118c7e23956",
   "metadata": {},
   "outputs": [],
   "source": [
    "for i in range(len(sentences)):\n",
    "    words=nltk.word_tokenize(sentences[i])\n",
    "    words=[stemmer.stem(word) for word in words if word not in set(stopwords.words('english'))]\n",
    "    sentences[i]=' '.join(words)"
   ]
  },
  {
   "cell_type": "code",
   "execution_count": 29,
   "id": "75e2b669-33d7-4455-81c2-04db73fcc839",
   "metadata": {},
   "outputs": [
    {
     "data": {
      "text/plain": [
       "['the situat afghanistan directli impact secur us .',\n",
       " \"india 's concern expect regard afghanistan similar sco countri .\",\n",
       " 'we must come togeth strive well-b peopl afghanistan .',\n",
       " 'humanitarian assist afghan citizen ; format inclus govern ; fight terror drug traffick ; ensur right women , children , minor share prioriti .',\n",
       " 'between peopl india afghanistan , centuries-old friendli relat .',\n",
       " 'in past two decad , contribut econom social develop afghanistan .',\n",
       " 'even event 2021 , continu provid humanitarian assist .',\n",
       " \"it import afghanistan 's territori use spread instabl neighbor countri encourag extremist ideolog .\"]"
      ]
     },
     "execution_count": 29,
     "metadata": {},
     "output_type": "execute_result"
    }
   ],
   "source": [
    "sentences"
   ]
  },
  {
   "cell_type": "code",
   "execution_count": 31,
   "id": "d65cb2d3-0fa4-4180-b774-140d1a08e00a",
   "metadata": {},
   "outputs": [],
   "source": [
    "from nltk import SnowballStemmer\n",
    "stemming2=SnowballStemmer('english')"
   ]
  },
  {
   "cell_type": "code",
   "execution_count": 39,
   "id": "1bfa1476-6a3c-4d9f-ac29-94122eb984ed",
   "metadata": {},
   "outputs": [],
   "source": [
    "for i in range(len(sentences)):\n",
    "    words=nltk.word_tokenize(sentences[i])\n",
    "    words=[stemming2.stem(word) for word in words if word not in set(stopwords.words('english'))]\n",
    "    sentences[i]=' '.join(words)"
   ]
  },
  {
   "cell_type": "code",
   "execution_count": 41,
   "id": "16705fd2-f325-4d73-a998-7fab90bda38b",
   "metadata": {},
   "outputs": [
    {
     "data": {
      "text/plain": [
       "['the situat afghanistan direct impact secur us .',\n",
       " \"india 's concern expect regard afghanistan similar sco countri .\",\n",
       " 'we must come togeth strive well-b peopl afghanistan .',\n",
       " 'humanitarian assist afghan citizen ; format inclus govern ; fight terror drug traffick ; ensur right women , children , minor share prioriti .',\n",
       " 'between peopl india afghanistan , centuries-old friend relat .',\n",
       " 'in past two decad , contribut econom social develop afghanistan .',\n",
       " 'even event 2021 , continu provid humanitarian assist .',\n",
       " \"it import afghanistan 's territori use spread instabl neighbor countri encourag extremist ideolog .\"]"
      ]
     },
     "execution_count": 41,
     "metadata": {},
     "output_type": "execute_result"
    }
   ],
   "source": [
    "sentences"
   ]
  },
  {
   "cell_type": "code",
   "execution_count": 43,
   "id": "35097b4d-1e0c-45b3-a324-8925feb4d4f2",
   "metadata": {},
   "outputs": [],
   "source": [
    "from nltk.stem import WordNetLemmatizer\n",
    "Lemmatizer=WordNetLemmatizer()"
   ]
  },
  {
   "cell_type": "code",
   "execution_count": 57,
   "id": "6e3c3e04-92b9-43c0-a05b-ea38220c6b42",
   "metadata": {},
   "outputs": [],
   "source": [
    "for i in range(len(sentences)):\n",
    "    words=nltk.word_tokenize(sentences[i])\n",
    "    words=[Lemmatizer.lemmatize(word.lower(),pos='v') for word in words if word not in set(stopwords.words('english'))]\n",
    "    sentences[i]=' '.join(words)"
   ]
  },
  {
   "cell_type": "code",
   "execution_count": 59,
   "id": "942b5d51-8a97-4a78-b2ec-034fc1e283ce",
   "metadata": {},
   "outputs": [
    {
     "data": {
      "text/plain": [
       "['the situation afghanistan directly impact security us .',\n",
       " \"india 's concern expectations regard afghanistan similar sco countries .\",\n",
       " 'we must come together strive well-being people afghanistan .',\n",
       " 'humanitarian assistance afghan citizens ; formation inclusive government ; fight terrorism drug traffic ; ensure right women , children , minorities share priorities .',\n",
       " 'between people india afghanistan , centuries-old friendly relations .',\n",
       " 'in past two decades , contribute economic social development afghanistan .',\n",
       " 'even events 2021 , continue provide humanitarian assistance .',\n",
       " \"it important afghanistan 's territory use spread instability neighbor countries encourage extremist ideologies .\"]"
      ]
     },
     "execution_count": 59,
     "metadata": {},
     "output_type": "execute_result"
    }
   ],
   "source": [
    "sentences"
   ]
  },
  {
   "cell_type": "markdown",
   "id": "2d44650f-3173-44f8-9e84-9a87df50963b",
   "metadata": {},
   "source": [
    "## POS_TAGGING"
   ]
  },
  {
   "cell_type": "code",
   "execution_count": 66,
   "id": "e189acf0-c011-488f-b839-f5453fcd19c3",
   "metadata": {},
   "outputs": [
    {
     "name": "stderr",
     "output_type": "stream",
     "text": [
      "[nltk_data] Downloading package averaged_perceptron_tagger_eng to\n",
      "[nltk_data]     C:\\Users\\Mastan\\AppData\\Roaming\\nltk_data...\n",
      "[nltk_data]   Unzipping taggers\\averaged_perceptron_tagger_eng.zip.\n"
     ]
    },
    {
     "data": {
      "text/plain": [
       "True"
      ]
     },
     "execution_count": 66,
     "metadata": {},
     "output_type": "execute_result"
    }
   ],
   "source": [
    "import nltk\n",
    "nltk.download('averaged_perceptron_tagger_eng')"
   ]
  },
  {
   "cell_type": "code",
   "execution_count": 74,
   "id": "d933e753-3461-4640-8cbe-c7cb29c34dd6",
   "metadata": {},
   "outputs": [
    {
     "name": "stdout",
     "output_type": "stream",
     "text": [
      "[('He', 'PRP'), ('is', 'VBZ'), ('a', 'DT'), ('good', 'JJ'), ('person', 'NN'), ('from', 'IN'), ('Hyderabad', 'NNP')]\n"
     ]
    }
   ],
   "source": [
    "print(nltk.pos_tag(\"He is a good person from Hyderabad\".split()))"
   ]
  },
  {
   "cell_type": "code",
   "execution_count": null,
   "id": "a375562a-7062-4854-bd54-864baa28215e",
   "metadata": {},
   "outputs": [],
   "source": []
  },
  {
   "cell_type": "code",
   "execution_count": null,
   "id": "22f9d316-b68c-48d7-aac2-b4b01e30b5cf",
   "metadata": {},
   "outputs": [],
   "source": []
  },
  {
   "cell_type": "code",
   "execution_count": null,
   "id": "7d520a9d-b0fa-4c7b-bd2b-662d491baafd",
   "metadata": {},
   "outputs": [],
   "source": []
  },
  {
   "cell_type": "code",
   "execution_count": null,
   "id": "1c636cb8-00fa-4e08-bda6-6bf0e57550e2",
   "metadata": {},
   "outputs": [],
   "source": []
  },
  {
   "cell_type": "code",
   "execution_count": null,
   "id": "a2899b1c-491f-47a9-a3b7-046a3112353f",
   "metadata": {},
   "outputs": [],
   "source": []
  },
  {
   "cell_type": "code",
   "execution_count": null,
   "id": "309c1765-7fa8-42ef-9153-443326d19bf8",
   "metadata": {},
   "outputs": [],
   "source": []
  },
  {
   "cell_type": "code",
   "execution_count": null,
   "id": "70724435-6307-43ac-b5b0-0d95f6363eca",
   "metadata": {},
   "outputs": [],
   "source": []
  }
 ],
 "metadata": {
  "kernelspec": {
   "display_name": "Python 3 (ipykernel)",
   "language": "python",
   "name": "python3"
  },
  "language_info": {
   "codemirror_mode": {
    "name": "ipython",
    "version": 3
   },
   "file_extension": ".py",
   "mimetype": "text/x-python",
   "name": "python",
   "nbconvert_exporter": "python",
   "pygments_lexer": "ipython3",
   "version": "3.12.7"
  }
 },
 "nbformat": 4,
 "nbformat_minor": 5
}
